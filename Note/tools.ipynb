{
 "cells": [
  {
   "cell_type": "markdown",
   "metadata": {},
   "source": [
    "# 针对特定站点的下载器\n",
    "\n",
    "## Pixiv\n",
    "\n",
    "* https://github.com/Mikubill/pixivpy-async\n",
    "\n",
    "## YouTube\n",
    "\n",
    "* https://youtube-dl.org/\n",
    "\n",
    "    同时支持流媒体下载、Niconico等站点喵\n",
    "\n",
    "## Twitter\n",
    "\n",
    "* \n",
    "\n",
    "## Telegram\n",
    "\n",
    "* "
   ]
  }
 ],
 "metadata": {
  "language_info": {
   "name": "python"
  },
  "orig_nbformat": 4
 },
 "nbformat": 4,
 "nbformat_minor": 2
}
